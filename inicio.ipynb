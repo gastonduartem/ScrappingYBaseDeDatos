{
 "cells": [
  {
   "cell_type": "markdown",
   "id": "c1381b72",
   "metadata": {},
   "source": [
    "¿Qué Es el Web Scraping?\n",
    "El web scraping es un conjunto de prácticas utilizadas para extraer automáticamente — o «scrapear» — datos de la web.\n",
    "\n",
    "El web scraping se refiere al proceso de extracción de contenidos y datos de sitios web mediante software."
   ]
  },
  {
   "cell_type": "markdown",
   "id": "2202bdac",
   "metadata": {},
   "source": [
    "Este script realiza web scraping de la página de un libro específico en el sitio \"Books to Scrape\".\n",
    "\n",
    "Primero, hacemos una petición HTTP con `requests.get(url)` para obtener el contenido HTML de la página.\n",
    "\n",
    "Luego, usamos `BeautifulSoup(response.text, 'html.parser')` para convertir ese HTML crudo en un objeto navegable.\n",
    "Esto permite buscar elementos fácilmente usando métodos como `.find()`, `.select_one()`, etc.\n",
    "\n",
    "Extraemos el título con `soup.find('h1').text`, el precio con `soup.select_one('.price_color').text`,  y lo limpiamos con `.replace()` para quitar caracteres no deseados (como \"Â\").\n",
    "\n",
    "Para la disponibilidad, usamos `.select_one('.availability').text.strip()` para eliminar espacios en blanco.\n",
    "\n",
    "La descripción del libro está justo después del div con id `product_description`, por eso usamos `.find_next_sibling('p')`.\n",
    "\n",
    "Finalmente, las estrellas están codificadas como una clase CSS en la etiqueta <p>, como por ejemplo: `<p class=\"star-rating Three\">.`\n",
    "\n",
    "Al usar `tag['class'][1]`, obtenemos el texto que indica la cantidad de estrellas (por ejemplo, \"Three\")."
   ]
  },
  {
   "cell_type": "code",
   "execution_count": null,
   "id": "db650b59",
   "metadata": {},
   "outputs": [
    {
     "name": "stdout",
     "output_type": "stream",
     "text": [
      "Título: A Light in the Attic\n",
      "Precio: £51.77\n",
      "Disponibilidad: In stock (22 available)\n",
      "Descripción: It's hard to imagine a world without A Light in the Attic. T...\n",
      "Estrellas: Three\n"
     ]
    }
   ],
   "source": [
    "# Extraer la información de un solo libro\n",
    "\n",
    "import requests\n",
    "from bs4 import BeautifulSoup #Averiguar bien\n",
    "\n",
    "# URL del libro\n",
    "url = 'https://books.toscrape.com/catalogue/a-light-in-the-attic_1000/index.html'\n",
    "\n",
    "# Hacemos la petición\n",
    "response = requests.get(url)\n",
    "\n",
    "# BeautifulSoup(response.text, 'html.parser') transforma el HTML crudo en un objeto navegable.\n",
    "soup = BeautifulSoup(response.text, 'html.parser')\n",
    "\n",
    "# Obtenemos el título\n",
    "title = soup.find('h1').text\n",
    "\n",
    "# .text te devuelve el texto visible dentro de una etiqueta HTML.\n",
    "# La gente usa .text sin saber qué devuelve la etiqueta. Si la etiqueta no tiene texto visible (ej: <img> o <meta>), .text te da vacío.\n",
    "\n",
    "# Obtenemos precio\n",
    "price = soup.select_one('.price_color').text\n",
    "price = price.replace('Â', '')  # Limpia cualquier carácter raro que aparezca\n",
    "\n",
    "# Obtenemos disponibilidad\n",
    "availability = soup.select_one('.availability').text.strip()\n",
    "\n",
    "# Descripción (viene en el siguiente <p> después del div con id 'product_description')\n",
    "desc_tag = soup.find('div', id='product_description')\n",
    "# Usamos `.find_next_sibling('p')`, que busca el **próximo hermano (sibling)** que sea una etiqueta <p>.\n",
    "description = desc_tag.find_next_sibling('p').text if desc_tag else \"Sin descripción\"\n",
    "\n",
    "# Las estrellas están codificadas en la clase CSS de un <p>\n",
    "# Ese guion bajo es una convención para evitar conflicto. Internamente, BeautifulSoup ya sabe que class_ se refiere al atributo class del HTML\n",
    "# Al hacer tag['class'], obtenemos una lista como ['star-rating', 'Three'], y el índice [1] nos da la cantidad de estrellas en texto.\n",
    "star_tag = soup.find('p', class_='star-rating')\n",
    "stars = star_tag['class'][1]\n",
    "\n",
    "# Imprimimos\n",
    "print(f\"Título: {title}\")\n",
    "print(f\"Precio: {price}\")\n",
    "print(f\"Disponibilidad: {availability}\")\n",
    "print(f\"Descripción: {description[:60]}...\")\n",
    "print(f\"Estrellas: {stars}\")\n"
   ]
  },
  {
   "cell_type": "markdown",
   "id": "d4c25ea1",
   "metadata": {},
   "source": [
    "Scrapeo de varias páginas\n",
    "\n",
    "Que hacen:\n",
    "\n",
    "1. requests.get(url) hace una petición HTTP a la URL y devuelve la respuesta con el HTML.\n",
    "\n",
    "2. BeautifulSoup transforma el texto HTML en un objeto para buscar etiquetas fácilmente.\n",
    "\n",
    "3. .find() busca la primera etiqueta que cumple la condición.\n",
    "\n",
    "4. .select() busca todas las etiquetas que cumplen un selector CSS (devuelve lista).\n",
    "\n",
    "5. .select_one() busca el primer elemento que cumple el selector CSS (devuelve un tag).\n",
    "\n",
    "6. En las URLs, a veces hay rutas relativas con \"../\", hay que limpiarlas para crear URLs absolutas.\n",
    "\n",
    "7. time.sleep(0.1) hace que el programa espere 0.1 segundos para no saturar el servidor y evitar bloqueos.\n",
    "\n",
    "8. El bucle while True se usa para seguir scrapeando páginas hasta que no haya más páginas siguientes.\n",
    "\n",
    "9. Las estrellas del libro están en la clase CSS 'star-rating X', donde X es la cantidad en texto (One, Two, Three, etc).\n",
    "\n",
    "10. Guardamos los datos en una lista de diccionarios para luego exportarlos o procesarlos fácilmente."
   ]
  },
  {
   "cell_type": "code",
   "execution_count": null,
   "id": "3859dd73",
   "metadata": {},
   "outputs": [],
   "source": [
    "# Extraer la información de una categoría\n",
    "\n",
    "import requests # Para hacer peticiones HTTPS y obtener el contenido de las páginas\n",
    "from bs4 import BeautifulSoup # Para parsear (analizar) el contenido de la página web\n",
    "import time # Para pausar entre peticiones y no sobrecargar el servidor"
   ]
  }
 ],
 "metadata": {
  "kernelspec": {
   "display_name": ".venv",
   "language": "python",
   "name": "python3"
  },
  "language_info": {
   "codemirror_mode": {
    "name": "ipython",
    "version": 3
   },
   "file_extension": ".py",
   "mimetype": "text/x-python",
   "name": "python",
   "nbconvert_exporter": "python",
   "pygments_lexer": "ipython3",
   "version": "3.12.3"
  }
 },
 "nbformat": 4,
 "nbformat_minor": 5
}
